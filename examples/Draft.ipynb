{
 "cells": [
  {
   "cell_type": "code",
   "execution_count": 1,
   "id": "revised-sullivan",
   "metadata": {},
   "outputs": [
    {
     "ename": "IndexError",
     "evalue": "list index out of range",
     "output_type": "error",
     "traceback": [
      "\u001b[0;31m---------------------------------------------------------------------------\u001b[0m",
      "\u001b[0;31mIndexError\u001b[0m                                Traceback (most recent call last)",
      "\u001b[0;32m/var/folders/q_/0qh2nb8s6hs3n091th2d_jc40000gn/T/ipykernel_40873/444688934.py\u001b[0m in \u001b[0;36m<module>\u001b[0;34m\u001b[0m\n\u001b[1;32m      9\u001b[0m \u001b[0mdataset\u001b[0m    \u001b[0;34m=\u001b[0m \u001b[0msys\u001b[0m\u001b[0;34m.\u001b[0m\u001b[0margv\u001b[0m\u001b[0;34m[\u001b[0m\u001b[0;36m1\u001b[0m\u001b[0;34m]\u001b[0m\u001b[0;34m\u001b[0m\u001b[0;34m\u001b[0m\u001b[0m\n\u001b[1;32m     10\u001b[0m \u001b[0mtask_type\u001b[0m  \u001b[0;34m=\u001b[0m \u001b[0msys\u001b[0m\u001b[0;34m.\u001b[0m\u001b[0margv\u001b[0m\u001b[0;34m[\u001b[0m\u001b[0;36m2\u001b[0m\u001b[0;34m]\u001b[0m\u001b[0;34m\u001b[0m\u001b[0;34m\u001b[0m\u001b[0m\n\u001b[0;32m---> 11\u001b[0;31m \u001b[0mepochs\u001b[0m     \u001b[0;34m=\u001b[0m \u001b[0msys\u001b[0m\u001b[0;34m.\u001b[0m\u001b[0margv\u001b[0m\u001b[0;34m[\u001b[0m\u001b[0;36m3\u001b[0m\u001b[0;34m]\u001b[0m\u001b[0;34m\u001b[0m\u001b[0;34m\u001b[0m\u001b[0m\n\u001b[0m\u001b[1;32m     12\u001b[0m \u001b[0mbatch_size\u001b[0m \u001b[0;34m=\u001b[0m \u001b[0msys\u001b[0m\u001b[0;34m.\u001b[0m\u001b[0margv\u001b[0m\u001b[0;34m[\u001b[0m\u001b[0;36m4\u001b[0m\u001b[0;34m]\u001b[0m\u001b[0;34m\u001b[0m\u001b[0;34m\u001b[0m\u001b[0m\n\u001b[1;32m     13\u001b[0m \u001b[0;34m\u001b[0m\u001b[0m\n",
      "\u001b[0;31mIndexError\u001b[0m: list index out of range"
     ]
    }
   ],
   "source": [
    "from load_data import load_data\n",
    "from create_model import create_model\n",
    "from learn_that import learn_that, evaluate, device\n",
    "from plot_losses import plot_losses, create_path\n",
    "import zero\n",
    "import sys\n",
    "import pandas as pd\n",
    "\n",
    "dataset    = sys.argv[1]\n",
    "task_type  = sys.argv[2]\n",
    "epochs     = sys.argv[3]\n",
    "batch_size = sys.argv[4]\n",
    "\n",
    "target_name = None\n",
    "if len(sys.argv) > 5:\n",
    "    target_name =  sys.argv[5]\n",
    "\n",
    "X, y, old_x, X_all, y_std = load_data(\"data/\", dataset  +\".csv\", task_type=task_type, target_name=target_name)\n",
    "model, optimizer, loss_fn = create_model(X_all, task_type=task_type)\n",
    "\n",
    "for relational_batch in [True, False]:\n",
    "    save_path = create_path(\"results/\" + dataset, epochs, batch_size, relational_batch)\n",
    "    losses = learn_that(\n",
    "                model, \n",
    "                optimizer, \n",
    "                loss_fn, \n",
    "                X, \n",
    "                y, \n",
    "                y_std,\n",
    "                epochs, \n",
    "                batch_size, \n",
    "                relational_batch, \n",
    "                old_x, \n",
    "                print_mode=False, \n",
    "                _task_type=task_type)\n",
    "    plot_losses(losses, path=save_path)\n",
    "    \n",
    "    df = pd.DataFrame(losses)\n",
    "    \n",
    "    # saving the dataframe \n",
    "    df.to_csv(save_path+'.csv', index=False) "
   ]
  },
  {
   "cell_type": "code",
   "execution_count": null,
   "id": "african-brunei",
   "metadata": {},
   "outputs": [],
   "source": [
    "\n",
    "    \n"
   ]
  },
  {
   "cell_type": "code",
   "execution_count": null,
   "id": "wrapped-metallic",
   "metadata": {},
   "outputs": [],
   "source": [
    "\n",
    "    "
   ]
  },
  {
   "cell_type": "code",
   "execution_count": null,
   "id": "corresponding-candy",
   "metadata": {},
   "outputs": [],
   "source": [
    "# importing pandas as pd  \n",
    "import pandas as pd  \n",
    "  \n",
    "df = pd.DataFrame(losses)\n",
    "    \n",
    "# saving the dataframe \n",
    "df.to_csv(save_path+'.csv', index=False) "
   ]
  }
 ],
 "metadata": {
  "kernelspec": {
   "display_name": "Python 3 (ipykernel)",
   "language": "python",
   "name": "python3"
  },
  "language_info": {
   "codemirror_mode": {
    "name": "ipython",
    "version": 3
   },
   "file_extension": ".py",
   "mimetype": "text/x-python",
   "name": "python",
   "nbconvert_exporter": "python",
   "pygments_lexer": "ipython3",
   "version": "3.7.2"
  }
 },
 "nbformat": 4,
 "nbformat_minor": 5
}
