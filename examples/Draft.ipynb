{
 "cells": [
  {
   "cell_type": "code",
   "execution_count": 1,
   "id": "revised-sullivan",
   "metadata": {},
   "outputs": [],
   "source": [
    "from load_data import load_data"
   ]
  },
  {
   "cell_type": "code",
   "execution_count": 2,
   "id": "binding-david",
   "metadata": {},
   "outputs": [],
   "source": [
    "from create_model import create_model"
   ]
  },
  {
   "cell_type": "code",
   "execution_count": 3,
   "id": "interpreted-correlation",
   "metadata": {},
   "outputs": [],
   "source": [
    "from learn_that import learn_that"
   ]
  },
  {
   "cell_type": "code",
   "execution_count": 4,
   "id": "bigger-implementation",
   "metadata": {},
   "outputs": [],
   "source": [
    "from learn_that import evaluate"
   ]
  },
  {
   "cell_type": "code",
   "execution_count": 5,
   "id": "constitutional-mountain",
   "metadata": {},
   "outputs": [],
   "source": [
    "from learn_that import device\n",
    "from plot_losses import plot_losses\n",
    "import zero"
   ]
  },
  {
   "cell_type": "code",
   "execution_count": 6,
   "id": "german-corpus",
   "metadata": {},
   "outputs": [],
   "source": [
    "task_type = \"binclass\""
   ]
  },
  {
   "cell_type": "code",
   "execution_count": 7,
   "id": "bulgarian-visibility",
   "metadata": {},
   "outputs": [],
   "source": [
    "X, y, old_x, X_all, y_std = load_data(\"data/\", \"adult_processed.csv\", task_type=task_type)"
   ]
  },
  {
   "cell_type": "code",
   "execution_count": 8,
   "id": "pediatric-mercury",
   "metadata": {},
   "outputs": [],
   "source": [
    "model, optimizer, loss_fn = create_model(X_all, task_type=task_type)"
   ]
  },
  {
   "cell_type": "code",
   "execution_count": 9,
   "id": "spread-killing",
   "metadata": {},
   "outputs": [],
   "source": [
    "epochs = 10\n",
    "batch_size = 100\n",
    "relational_batch = True\n",
    "# train_loader = zero.data.IndexLoader(len(X['train']), batch_size, device=device)"
   ]
  },
  {
   "cell_type": "code",
   "execution_count": 10,
   "id": "different-endorsement",
   "metadata": {},
   "outputs": [],
   "source": [
    "losses = learn_that(\n",
    "                model, \n",
    "                optimizer, \n",
    "                loss_fn, \n",
    "                X, \n",
    "                y, \n",
    "                y_std,\n",
    "                epochs, \n",
    "                batch_size, \n",
    "                relational_batch, \n",
    "                old_x, \n",
    "                print_mode=False, \n",
    "                _task_type=task_type)"
   ]
  },
  {
   "cell_type": "code",
   "execution_count": 11,
   "id": "flexible-phoenix",
   "metadata": {},
   "outputs": [
    {
     "data": {
      "image/png": "[encoded data removed]",
      "text/plain": [
       "<Figure size 432x288 with 1 Axes>"
      ]
     },
     "metadata": {
      "needs_background": "light"
     },
     "output_type": "display_data"
    }
   ],
   "source": [
    "plot_losses(losses)"
   ]
  },
  {
   "cell_type": "code",
   "execution_count": null,
   "id": "corresponding-candy",
   "metadata": {},
   "outputs": [],
   "source": []
  }
 ],
 "metadata": {
  "kernelspec": {
   "display_name": "Python 3",
   "language": "python",
   "name": "python3"
  },
  "language_info": {
   "codemirror_mode": {
    "name": "ipython",
    "version": 3
   },
   "file_extension": ".py",
   "mimetype": "text/x-python",
   "name": "python",
   "nbconvert_exporter": "python",
   "pygments_lexer": "ipython3",
   "version": "3.7.11"
  }
 },
 "nbformat": 4,
 "nbformat_minor": 5
}
