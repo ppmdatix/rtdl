{
 "cells": [
  {
   "cell_type": "code",
   "execution_count": 1,
   "id": "revised-sullivan",
   "metadata": {},
   "outputs": [],
   "source": [
    "from load_data import load_data\n",
    "from create_model import create_model\n",
    "from learn_that import learn_that, evaluate, device\n",
    "from plot_losses import plot_losses, create_path\n",
    "import zero\n",
    "import sys\n",
    "import pandas as pd\n",
    "\n",
    "dataset    = sys.argv[1]\n",
    "task_type  = sys.argv[2]\n",
    "epochs     = sys.argv[3]\n",
    "batch_size = sys.argv[4]\n",
    "\n",
    "X, y, old_x, X_all, y_std = load_data(\"data/\", dataset  +\".csv\", task_type=task_type)\n",
    "model, optimizer, loss_fn = create_model(X_all, task_type=task_type)\n",
    "\n",
    "for relational_batch in [True, False]:\n",
    "    save_path = create_path(\"results/\" + dataset, epochs, batch_size, relational_batch)\n",
    "    losses = learn_that(\n",
    "                model, \n",
    "                optimizer, \n",
    "                loss_fn, \n",
    "                X, \n",
    "                y, \n",
    "                y_std,\n",
    "                epochs, \n",
    "                batch_size, \n",
    "                relational_batch, \n",
    "                old_x, \n",
    "                print_mode=False, \n",
    "                _task_type=task_type)\n",
    "    plot_losses(losses, path=save_path)\n",
    "    \n",
    "    df = pd.DataFrame(losses)\n",
    "    \n",
    "    # saving the dataframe \n",
    "    df.to_csv(save_path+'.csv', index=False) "
   ]
  },
  {
   "cell_type": "code",
   "execution_count": 2,
   "id": "african-brunei",
   "metadata": {},
   "outputs": [],
   "source": [
    "\n",
    "    \n"
   ]
  },
  {
   "cell_type": "code",
   "execution_count": 3,
   "id": "wrapped-metallic",
   "metadata": {},
   "outputs": [],
   "source": [
    "\n",
    "    "
   ]
  },
  {
   "cell_type": "code",
   "execution_count": 7,
   "id": "corresponding-candy",
   "metadata": {},
   "outputs": [],
   "source": [
    "# importing pandas as pd  \n",
    "import pandas as pd  \n",
    "  \n",
    "df = pd.DataFrame(losses)\n",
    "    \n",
    "# saving the dataframe \n",
    "df.to_csv(save_path+'.csv', index=False) "
   ]
  }
 ],
 "metadata": {
  "kernelspec": {
   "display_name": "Python 3",
   "language": "python",
   "name": "python3"
  },
  "language_info": {
   "codemirror_mode": {
    "name": "ipython",
    "version": 3
   },
   "file_extension": ".py",
   "mimetype": "text/x-python",
   "name": "python",
   "nbconvert_exporter": "python",
   "pygments_lexer": "ipython3",
   "version": "3.7.11"
  }
 },
 "nbformat": 4,
 "nbformat_minor": 5
}
