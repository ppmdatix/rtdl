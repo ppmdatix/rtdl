{
 "cells": [
  {
   "cell_type": "code",
   "execution_count": 1,
   "id": "underlying-telling",
   "metadata": {},
   "outputs": [],
   "source": [
    "# Requirements:\n",
    "# !pip install rtdl\n",
    "# !pip install libzero==0.0.4"
   ]
  },
  {
   "cell_type": "code",
   "execution_count": 2,
   "id": "scheduled-leone",
   "metadata": {},
   "outputs": [],
   "source": [
    "from typing import Any, Dict\n",
    "\n",
    "import numpy as np\n",
    "import rtdl\n",
    "import scipy.special\n",
    "import sklearn.datasets\n",
    "import sklearn.metrics\n",
    "import sklearn.model_selection\n",
    "import sklearn.preprocessing\n",
    "import torch\n",
    "import torch.nn as nn\n",
    "import torch.nn.functional as F\n",
    "import zero\n",
    "import pandas as pd"
   ]
  },
  {
   "cell_type": "code",
   "execution_count": 3,
   "id": "bigger-frame",
   "metadata": {},
   "outputs": [
    {
     "data": {
      "text/plain": [
       "123456"
      ]
     },
     "execution_count": 3,
     "metadata": {},
     "output_type": "execute_result"
    }
   ],
   "source": [
    "device = torch.device('cpu')\n",
    "# Docs: https://yura52.github.io/zero/0.0.4/reference/api/zero.improve_reproducibility.html\n",
    "zero.improve_reproducibility(seed=123456)"
   ]
  },
  {
   "cell_type": "markdown",
   "id": "acquired-contractor",
   "metadata": {},
   "source": [
    "### Data"
   ]
  },
  {
   "cell_type": "code",
   "execution_count": 4,
   "id": "addressed-congo",
   "metadata": {},
   "outputs": [],
   "source": [
    "df = pd.read_csv(\"data/kdd_processed.csv\")"
   ]
  },
  {
   "cell_type": "code",
   "execution_count": 5,
   "id": "genuine-stomach",
   "metadata": {},
   "outputs": [],
   "source": [
    "# df.values\n",
    "\n",
    "target = df[\"target\"].values\n",
    "targetValues = list(set(target))\n",
    "targetMapping = dict()\n",
    "\n",
    "\n",
    "for i in range(len(targetValues)):\n",
    "    targetMapping[targetValues[i]] = i\n",
    "\n",
    "result = []\n",
    "for t in target:\n",
    "    result.append(targetMapping[t])\n",
    "\n",
    "dfFormat = {\"target\": pd.DataFrame(result).values.reshape(df.shape[0]), \"data\": df.drop(\"target\", axis=1), \"frame\": None, \"DESCR\": \"Todo\", \"feature_names\": []}"
   ]
  },
  {
   "cell_type": "code",
   "execution_count": 6,
   "id": "fabulous-mortality",
   "metadata": {},
   "outputs": [],
   "source": [
    "def toY(_data):\n",
    "    if type(_data) == np.ndarray:\n",
    "        return _data\n",
    "    else:\n",
    "        return _data.values"
   ]
  },
  {
   "cell_type": "code",
   "execution_count": 7,
   "id": "streaming-variety",
   "metadata": {},
   "outputs": [],
   "source": [
    "task_type = 'multiclass'\n",
    "\n",
    "assert task_type in ['binclass', 'multiclass', 'regression']\n",
    "\n",
    "X_all = dfFormat['data'].astype('float32')\n",
    "y_all = dfFormat['target'].astype('float32' if task_type == 'regression' else 'int64')\n",
    "if task_type != 'regression':\n",
    "    y_all = sklearn.preprocessing.LabelEncoder().fit_transform(y_all).astype('int64')\n",
    "n_classes = int(max(y_all)) + 1 if task_type == 'multiclass' else None\n",
    "\n",
    "oldX = {}\n",
    "y = {}\n",
    "oldX['train'], oldX['test'], y['train'], y['test'] = sklearn.model_selection.train_test_split(\n",
    "    X_all, y_all, train_size=0.8\n",
    ")\n",
    "oldX['train'], oldX['val'], y['train'], y['val'] = sklearn.model_selection.train_test_split(\n",
    "    oldX['train'], y['train'], train_size=0.8\n",
    ")\n",
    "\n",
    "# not the best way to preprocess features, but enough for the demonstration\n",
    "preprocess = sklearn.preprocessing.StandardScaler().fit(oldX['train'])\n",
    "X = {\n",
    "    # k: torch.tensor(v, device=device)\n",
    "    k: torch.tensor(preprocess.fit_transform(v), device=device)\n",
    "    for k, v in oldX.items()\n",
    "}\n",
    "# y = {k: torch.tensor(np.array(v), device=device) for k, v in y.items()}\n",
    "y = {k: torch.tensor(toY(v), device=device) for k, v in y.items()}\n",
    "\n",
    "# !!! CRUCIAL for neural networks when solving regression problems !!!\n",
    "if task_type == 'regression':\n",
    "    y_mean = y['train'].mean().item()\n",
    "    y_std = y['train'].std().item()\n",
    "    y = {k: (v - y_mean) / y_std for k, v in y.items()}\n",
    "else:\n",
    "    y_std = y_mean = None\n",
    "\n",
    "if task_type != 'multiclass':\n",
    "    y = {k: v.float() for k, v in y.items()}"
   ]
  },
  {
   "cell_type": "markdown",
   "id": "decent-idaho",
   "metadata": {},
   "source": [
    "### Model\n",
    "Carefully read the comments and uncomment the code for the model you want to test."
   ]
  },
  {
   "cell_type": "code",
   "execution_count": 8,
   "id": "greatest-impact",
   "metadata": {},
   "outputs": [],
   "source": [
    "def createModel():\n",
    "    d_out = n_classes or 1\n",
    "\n",
    "\n",
    "    first_layer = 16\n",
    "    model = rtdl.MLP.make_baseline(\n",
    "        d_in=X_all.shape[1],\n",
    "    #     d_layers=[first_layer, 256, 128],\n",
    "        d_layers=[first_layer, 32, 16],\n",
    "        dropout=0.1,\n",
    "        d_out=d_out,\n",
    "        # seed=42\n",
    "    )\n",
    "    lr = 0.001\n",
    "    weight_decay = 0.0\n",
    "\n",
    "    # model = rtdl.ResNet.make_baseline(\n",
    "    #     d_in=X_all.shape[1],\n",
    "    #     d_main=128,\n",
    "    #     d_intermidiate=256,\n",
    "    #     dropout_first=0.2,\n",
    "    #     dropout_second=0.0,\n",
    "    #     n_blocks=2,\n",
    "    #     d_out=d_out,\n",
    "    # )\n",
    "    # lr = 0.001\n",
    "    # weight_decay = 0.0\n",
    "\n",
    "    # model = rtdl.FTTransformer.make_default(\n",
    "    #     n_num_features=X_all.shape[1],\n",
    "    #     cat_cardinalities=None,\n",
    "    #     last_layer_query_idx=[-1],  # it makes the model faster and does NOT affect its output\n",
    "    #     d_out=d_out,\n",
    "    # )\n",
    "\n",
    "    # === ABOUT CATEGORICAL FEATURES ===\n",
    "    # IF you use MLP, ResNet or any other simple feed-forward model (NOT transformer-based model)\n",
    "    # AND there are categorical features\n",
    "    # THEN you have to implement a wrapper that handles categorical features.\n",
    "    # The example below demonstrates how it can be achieved using rtdl.CategoricalFeatureTokenizer.\n",
    "    # ==================================\n",
    "    # 1. When you have both numerical and categorical features, you should prepare you data like this:\n",
    "    #    (X_num<float32>, X_cat<int64>) instead of X<float32>\n",
    "    #    Each column in X_cat should contain values within the range from 0 to <(the number of unique values in column) - 1>;\n",
    "    #    use sklean.preprocessing.OrdinalEncoder to achieve this;\n",
    "    # 2. Prepare a list of so called \"cardinalities\":\n",
    "    #    cardinalities[i] = <the number of unique values of the i-th categorical feature>\n",
    "    # 3. See the commented example below and adapt it for your needs.\n",
    "    #\n",
    "    # class Model(nn.Module):\n",
    "    #     def __init__(\n",
    "    #         self,\n",
    "    #         n_num_features: int,\n",
    "    #         cat_tokenizer: rtdl.CategoricalFeatureTokenizer,\n",
    "    #         mlp_kwargs: Dict[str, Any],\n",
    "    #     ):\n",
    "    #         super().__init__()\n",
    "    #         self.cat_tokenizer = cat_tokenizer\n",
    "    #         self.model = rtdl.MLP.make_baseline(\n",
    "    #             d_in=n_num_features + cat_tokenizer.n_tokens * cat_tokenizer.d_token,\n",
    "    #             **mlp_kwargs,\n",
    "    #         )\n",
    "    #\n",
    "    #     def forward(self, x_num, x_cat):\n",
    "    #         return self.model(\n",
    "    #             torch.cat([x_num, self.cat_tokenizer(x_cat).flatten(1, -1)], dim=1)\n",
    "    #         )\n",
    "    #\n",
    "    # model = Model(\n",
    "    #     # `None` means \"Do not transform numerical features\"\n",
    "    #     # `d_token` is the size of embedding for ONE categorical feature\n",
    "    #     X_num_all.shape[1],\n",
    "    #     rtdl.CategoricalFeatureTokenizer(cardinalities, d_token, True, 'uniform'),\n",
    "    #     mlp_kwargs,\n",
    "    # )\n",
    "    # Then the model should be used as `model(x_num, x_cat)` instead of of `model(x)`.\n",
    "\n",
    "    model.to(device)\n",
    "    optimizer = (\n",
    "        model.make_default_optimizer()\n",
    "        if isinstance(model, rtdl.FTTransformer)\n",
    "    #     else torch.optim.AdamW(model.parameters(), lr=lr, weight_decay=weight_decay)\n",
    "        else torch.optim.Adam(model.parameters(), lr=lr, weight_decay=weight_decay)\n",
    "    )\n",
    "    loss_fn = (\n",
    "        F.binary_cross_entropy_with_logits\n",
    "        if task_type == 'binclass'\n",
    "        else F.cross_entropy\n",
    "        if task_type == 'multiclass'\n",
    "        else F.mse_loss\n",
    "    )\n",
    "    return model, optimizer, loss_fn\n"
   ]
  },
  {
   "cell_type": "code",
   "execution_count": 9,
   "id": "convinced-disposal",
   "metadata": {},
   "outputs": [],
   "source": [
    "model, optimizer, loss_fn = createModel()"
   ]
  },
  {
   "cell_type": "markdown",
   "id": "lonely-monday",
   "metadata": {},
   "source": [
    "### Training"
   ]
  },
  {
   "cell_type": "code",
   "execution_count": 10,
   "id": "inclusive-tattoo",
   "metadata": {},
   "outputs": [
    {
     "name": "stdout",
     "output_type": "stream",
     "text": [
      "Test score before training: 0.5705\n"
     ]
    }
   ],
   "source": [
    "def apply_model(x_num, x_cat=None, model=None):\n",
    "    if isinstance(model, rtdl.FTTransformer):\n",
    "        return model(x_num, x_cat)\n",
    "    elif isinstance(model, (rtdl.MLP, rtdl.ResNet)):\n",
    "        assert x_cat is None\n",
    "        return model(x_num)\n",
    "    else:\n",
    "        raise NotImplementedError(\n",
    "            f'Looks like you are using a custom model: {type(model)}.'\n",
    "            ' Then you have to implement this branch first.'\n",
    "        )\n",
    "\n",
    "\n",
    "@torch.no_grad()\n",
    "def evaluate(part, model):\n",
    "    model.eval()\n",
    "    prediction = []\n",
    "    for batch in zero.iter_batches(X[part], 1024):\n",
    "        prediction.append(apply_model(batch,model=model))\n",
    "    prediction = torch.cat(prediction).squeeze(1).cpu().numpy()\n",
    "    target = y[part].cpu().numpy()\n",
    "\n",
    "    if task_type == 'binclass':\n",
    "        prediction = np.round(scipy.special.expit(prediction))\n",
    "        score = sklearn.metrics.accuracy_score(target, prediction)\n",
    "    elif task_type == 'multiclass':\n",
    "        prediction = prediction.argmax(1)\n",
    "        score = sklearn.metrics.accuracy_score(target, prediction)\n",
    "    else:\n",
    "        assert task_type == 'regression'\n",
    "        score = sklearn.metrics.mean_squared_error(target, prediction) ** 0.5 * y_std\n",
    "    return score\n",
    "\n",
    "\n",
    "# Create a dataloader for batches of indices\n",
    "# Docs: https://yura52.github.io/zero/reference/api/zero.data.IndexLoader.html\n",
    "batch_size = 256\n",
    "train_loader = zero.data.IndexLoader(len(X['train']), batch_size, device=device)\n",
    "\n",
    "# Create a progress tracker for early stopping\n",
    "# Docs: https://yura52.github.io/zero/reference/api/zero.ProgressTracker.html\n",
    "progress = zero.ProgressTracker(patience=100)\n",
    "\n",
    "print(f'Test score before training: {evaluate(\"test\",model):.4f}')"
   ]
  },
  {
   "cell_type": "code",
   "execution_count": 11,
   "id": "annual-liver",
   "metadata": {},
   "outputs": [],
   "source": [
    "from matplotlib import pyplot as plt\n",
    "\n",
    "def plotLosses(_losses, title=\"this is a graph\"):\n",
    "    for key in _losses:\n",
    "        plt.plot([np.log(x) for x in _losses[key]], label=key)\n",
    "    plt.xlabel(\"epoch\")\n",
    "    plt.ylabel(\"loss\")\n",
    "    plt.legend()\n",
    "    plt.title(title)\n",
    "    plt.show()\n",
    "    plt.close()"
   ]
  },
  {
   "cell_type": "code",
   "execution_count": 16,
   "id": "personalized-house",
   "metadata": {},
   "outputs": [],
   "source": [
    "def learnThat(_model, _optimizer, _loss_fn, _evaluate, _progress,_X, _y, _epochs, _batch_size,_train_loader, _relational_batch, _old_X, print_mode):\n",
    "\n",
    "    report_frequency = len(X['train']) // _batch_size // 5\n",
    "    losses = dict()\n",
    "    losses['val']  = []\n",
    "    losses['test'] = []\n",
    "    for epoch in range(1, _epochs + 1):\n",
    "        for iteration, batch_idx in enumerate(train_loader):\n",
    "            _model.train()\n",
    "            _optimizer.zero_grad()\n",
    "            x_batch = _X['train'][batch_idx]\n",
    "            y_batch = _y['train'][batch_idx]\n",
    "            loss = _loss_fn(apply_model(x_batch,model=_model).squeeze(1), y_batch)\n",
    "            loss.backward()\n",
    "\n",
    "            factors = dict()\n",
    "\n",
    "            ## Modify gradients\n",
    "            if _relational_batch:\n",
    "                for name, param in model.named_parameters():\n",
    "                    if name==\"blocks.0.linear.weight\":                    \n",
    "                        column_count = df.shape[1] - 1\n",
    "                        factors = torch.ones(column_count,param.grad.shape[0])\n",
    "                        for i in range(column_count):\n",
    "                            column = oldX['train'].columns[i]\n",
    "                            if True:# not column in oldNames:\n",
    "                                idx = oldX['train'][iteration * batch_size:(iteration+1) * batch_size].columns[i]\n",
    "                                realCount = oldX['train'][iteration * batch_size:(iteration+1) * batch_size][idx].sum()\n",
    "                                if realCount > 0:\n",
    "                                    factors[i] = (batch_size / (1.0 * realCount)) * factors[i]\n",
    "                                else:\n",
    "                                    ()\n",
    "                                    # factors[i] = float('nan') * factors[i] \n",
    "                        param.grad = torch.mul(param.grad, torch.transpose(factors,0,1))\n",
    "\n",
    "            optimizer.step()\n",
    "            if iteration % report_frequency == 0:\n",
    "                print(f'(epoch) {epoch} (batch) {iteration} (loss) {loss.item():.4f}')\n",
    "\n",
    "\n",
    "        losses['val'].append(float(loss_fn(apply_model(X['val'],model=_model).squeeze(1), y['val'])))\n",
    "        losses['test'].append(float(loss_fn(apply_model(X['test'],model=_model).squeeze(1), y['test'])))\n",
    "\n",
    "\n",
    "        val_score  = _evaluate('val',_model)\n",
    "        test_score = _evaluate('test',_model)\n",
    "        print(f'Epoch {epoch:03d} | Validation score: {val_score:.4f} | Test score: {test_score:.4f}', end='')\n",
    "        _progress.update((-1 if task_type == 'regression' else 1) * val_score)\n",
    "        if _progress.success:\n",
    "            print(' <<< BEST VALIDATION EPOCH', end='')\n",
    "        print()\n",
    "        if _progress.fail:\n",
    "            break\n",
    "    if print_mode:\n",
    "        plotLosses(losses, \"relational batch ? \" + str(_relational_batch))\n",
    "    return losses"
   ]
  },
  {
   "cell_type": "code",
   "execution_count": 17,
   "id": "numerous-correction",
   "metadata": {},
   "outputs": [],
   "source": [
    "epochs = 3\n",
    "relational_batch = True"
   ]
  },
  {
   "cell_type": "code",
   "execution_count": 18,
   "id": "italic-booth",
   "metadata": {},
   "outputs": [
    {
     "name": "stdout",
     "output_type": "stream",
     "text": [
      "(epoch) 1 (batch) 0 (loss) 2.9791\n",
      "(epoch) 1 (batch) 247 (loss) 0.1248\n",
      "(epoch) 1 (batch) 494 (loss) 0.0426\n",
      "(epoch) 1 (batch) 741 (loss) 0.0784\n",
      "(epoch) 1 (batch) 988 (loss) 0.0901\n",
      "(epoch) 1 (batch) 1235 (loss) 0.0169\n",
      "Epoch 001 | Validation score: 0.9828 | Test score: 0.9826 <<< BEST VALIDATION EPOCH\n",
      "(epoch) 2 (batch) 0 (loss) 0.1648\n",
      "(epoch) 2 (batch) 247 (loss) 0.0697\n",
      "(epoch) 2 (batch) 494 (loss) 0.0218\n",
      "(epoch) 2 (batch) 741 (loss) 0.0631\n",
      "(epoch) 2 (batch) 988 (loss) 0.0752\n",
      "(epoch) 2 (batch) 1235 (loss) 0.0288\n",
      "Epoch 002 | Validation score: 0.9866 | Test score: 0.9863 <<< BEST VALIDATION EPOCH\n",
      "(epoch) 3 (batch) 0 (loss) 0.1552\n",
      "(epoch) 3 (batch) 247 (loss) 0.0673\n",
      "(epoch) 3 (batch) 494 (loss) 0.0258\n",
      "(epoch) 3 (batch) 741 (loss) 0.0715\n",
      "(epoch) 3 (batch) 988 (loss) 0.0894\n",
      "(epoch) 3 (batch) 1235 (loss) 0.0349\n",
      "Epoch 003 | Validation score: 0.9872 | Test score: 0.9868 <<< BEST VALIDATION EPOCH\n"
     ]
    },
    {
     "data": {
      "image/png": "[encoded data removed]",
      "text/plain": [
       "<Figure size 432x288 with 1 Axes>"
      ]
     },
     "metadata": {
      "needs_background": "light"
     },
     "output_type": "display_data"
    },
    {
     "data": {
      "text/plain": [
       "{'val': [0.08025284856557846, 0.06724198162555695, 0.06481439620256424],\n",
       " 'test': [0.08111413568258286, 0.06944745779037476, 0.06435076147317886]}"
      ]
     },
     "execution_count": 18,
     "metadata": {},
     "output_type": "execute_result"
    }
   ],
   "source": [
    "learnThat(\n",
    "    _model    =model, \n",
    "    _optimizer=optimizer, \n",
    "    _loss_fn  =loss_fn, \n",
    "    _evaluate =evaluate, \n",
    "    _progress =progress,\n",
    "    _X=X, \n",
    "    _y=y, \n",
    "    _epochs      =epochs, \n",
    "    _batch_size  =batch_size,\n",
    "    _train_loader=train_loader, \n",
    "    _relational_batch=relational_batch, \n",
    "    _old_X=oldX,\n",
    "    print_mode=True)"
   ]
  },
  {
   "cell_type": "code",
   "execution_count": 19,
   "id": "tight-enterprise",
   "metadata": {},
   "outputs": [],
   "source": [
    "model, optimizer, loss_fn = createModel()\n",
    "epochs = 3\n",
    "relational_batch = False"
   ]
  },
  {
   "cell_type": "code",
   "execution_count": 20,
   "id": "external-animal",
   "metadata": {},
   "outputs": [
    {
     "name": "stdout",
     "output_type": "stream",
     "text": [
      "(epoch) 1 (batch) 0 (loss) 3.2267\n",
      "(epoch) 1 (batch) 247 (loss) 0.1522\n",
      "(epoch) 1 (batch) 494 (loss) 0.0427\n",
      "(epoch) 1 (batch) 741 (loss) 0.0943\n",
      "(epoch) 1 (batch) 988 (loss) 0.0947\n",
      "(epoch) 1 (batch) 1235 (loss) 0.0213\n",
      "Epoch 001 | Validation score: 0.9846 | Test score: 0.9844\n",
      "(epoch) 2 (batch) 0 (loss) 0.1365\n",
      "(epoch) 2 (batch) 247 (loss) 0.0713\n",
      "(epoch) 2 (batch) 494 (loss) 0.0289\n",
      "(epoch) 2 (batch) 741 (loss) 0.0610\n",
      "(epoch) 2 (batch) 988 (loss) 0.0791\n",
      "(epoch) 2 (batch) 1235 (loss) 0.0245\n",
      "Epoch 002 | Validation score: 0.9867 | Test score: 0.9865\n",
      "(epoch) 3 (batch) 0 (loss) 0.1415\n",
      "(epoch) 3 (batch) 247 (loss) 0.0529\n",
      "(epoch) 3 (batch) 494 (loss) 0.0222\n",
      "(epoch) 3 (batch) 741 (loss) 0.0455\n",
      "(epoch) 3 (batch) 988 (loss) 0.0807\n",
      "(epoch) 3 (batch) 1235 (loss) 0.0188\n",
      "Epoch 003 | Validation score: 0.9868 | Test score: 0.9866\n"
     ]
    },
    {
     "data": {
      "image/png": "[encoded data removed]",
      "text/plain": [
       "<Figure size 432x288 with 1 Axes>"
      ]
     },
     "metadata": {
      "needs_background": "light"
     },
     "output_type": "display_data"
    },
    {
     "data": {
      "text/plain": [
       "{'val': [0.08346369862556458, 0.06870254129171371, 0.06549955904483795],\n",
       " 'test': [0.08324338495731354, 0.0694945827126503, 0.06463820487260818]}"
      ]
     },
     "execution_count": 20,
     "metadata": {},
     "output_type": "execute_result"
    }
   ],
   "source": [
    "learnThat(\n",
    "    _model    =model, \n",
    "    _optimizer=optimizer, \n",
    "    _loss_fn  =loss_fn, \n",
    "    _evaluate =evaluate, \n",
    "    _progress =progress,\n",
    "    _X=X, \n",
    "    _y=y, \n",
    "    _epochs      =epochs, \n",
    "    _batch_size  =batch_size,\n",
    "    _train_loader=train_loader, \n",
    "    _relational_batch=relational_batch, \n",
    "    _old_X=oldX,\n",
    "    print_mode=True)"
   ]
  },
  {
   "cell_type": "code",
   "execution_count": null,
   "id": "narrow-anxiety",
   "metadata": {},
   "outputs": [],
   "source": []
  }
 ],
 "metadata": {
  "kernelspec": {
   "display_name": "Python 3",
   "language": "python",
   "name": "python3"
  },
  "language_info": {
   "codemirror_mode": {
    "name": "ipython",
    "version": 3
   },
   "file_extension": ".py",
   "mimetype": "text/x-python",
   "name": "python",
   "nbconvert_exporter": "python",
   "pygments_lexer": "ipython3",
   "version": "3.7.11"
  }
 },
 "nbformat": 4,
 "nbformat_minor": 5
}
