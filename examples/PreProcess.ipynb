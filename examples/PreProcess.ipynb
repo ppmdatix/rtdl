{
 "cells": [
  {
   "cell_type": "code",
   "execution_count": 1,
   "id": "underlying-telling",
   "metadata": {},
   "outputs": [],
   "source": [
    "# Requirements:\n",
    "# !pip install rtdl\n",
    "# !pip install libzero==0.0.4"
   ]
  },
  {
   "cell_type": "code",
   "execution_count": 2,
   "id": "scheduled-leone",
   "metadata": {},
   "outputs": [],
   "source": [
    "from typing import Any, Dict\n",
    "\n",
    "import numpy as np\n",
    "import rtdl\n",
    "import scipy.special\n",
    "import sklearn.datasets\n",
    "import sklearn.metrics\n",
    "import sklearn.model_selection\n",
    "import sklearn.preprocessing\n",
    "import torch\n",
    "import torch.nn as nn\n",
    "import torch.nn.functional as F\n",
    "import zero\n",
    "import pandas as pd"
   ]
  },
  {
   "cell_type": "code",
   "execution_count": 3,
   "id": "bigger-frame",
   "metadata": {},
   "outputs": [
    {
     "data": {
      "text/plain": [
       "123456"
      ]
     },
     "execution_count": 3,
     "metadata": {},
     "output_type": "execute_result"
    }
   ],
   "source": [
    "device = torch.device('cpu')\n",
    "# Docs: https://yura52.github.io/zero/0.0.4/reference/api/zero.improve_reproducibility.html\n",
    "zero.improve_reproducibility(seed=123456)"
   ]
  },
  {
   "cell_type": "markdown",
   "id": "acquired-contractor",
   "metadata": {},
   "source": [
    "### Data"
   ]
  },
  {
   "cell_type": "code",
   "execution_count": 4,
   "id": "thorough-postcard",
   "metadata": {},
   "outputs": [
    {
     "name": "stdout",
     "output_type": "stream",
     "text": [
      "['labels']\n"
     ]
    }
   ],
   "source": [
    "from sklearn.datasets import fetch_kddcup99 \n",
    "data = fetch_kddcup99(subset='train')\n",
    "\n",
    "from pprint import pprint\n",
    "print(list(data.target_names))"
   ]
  },
  {
   "cell_type": "code",
   "execution_count": 5,
   "id": "mineral-burden",
   "metadata": {},
   "outputs": [],
   "source": [
    "df = pd.DataFrame(data.data.tolist(), columns=data.feature_names)\n",
    "oldNames = data.feature_names"
   ]
  },
  {
   "cell_type": "code",
   "execution_count": 6,
   "id": "mighty-indiana",
   "metadata": {},
   "outputs": [],
   "source": [
    "df[\"target\"] = data.target"
   ]
  },
  {
   "cell_type": "code",
   "execution_count": 7,
   "id": "european-remainder",
   "metadata": {},
   "outputs": [
    {
     "name": "stdout",
     "output_type": "stream",
     "text": [
      "The different type of output labels are: {b'rootkit.', b'neptune.', b'satan.', b'smurf.', b'loadmodule.', b'ftp_write.', b'portsweep.', b'warezclient.', b'pod.', b'buffer_overflow.', b'nmap.', b'warezmaster.', b'phf.', b'land.', b'guess_passwd.', b'multihop.', b'normal.', b'back.', b'spy.', b'ipsweep.', b'imap.', b'teardrop.', b'perl.'}\n",
      "=============================================================================================================================\n",
      "No. of different output labels are: 23\n"
     ]
    }
   ],
   "source": [
    "output = df.target.values\n",
    "labels = set(output)\n",
    "print('The different type of output labels are:',labels)\n",
    "print('='*125)\n",
    "print('No. of different output labels are:', len(labels))"
   ]
  },
  {
   "cell_type": "code",
   "execution_count": 8,
   "id": "toxic-municipality",
   "metadata": {},
   "outputs": [],
   "source": [
    "def onhotencode(_df, _col):\n",
    "    _values = set(_df[_col].values)\n",
    "    for v in _values:\n",
    "        _df[v] = _df[_col].apply(lambda x : float(x == v) )\n",
    "    return _df"
   ]
  },
  {
   "cell_type": "code",
   "execution_count": 9,
   "id": "offensive-comedy",
   "metadata": {},
   "outputs": [],
   "source": [
    "for c in df.columns:\n",
    "    if not c in ['protocol_type','service','flag', 'target']:\n",
    "        df = df.drop(c, axis=1)"
   ]
  },
  {
   "cell_type": "code",
   "execution_count": 10,
   "id": "cognitive-andrews",
   "metadata": {},
   "outputs": [],
   "source": [
    "df = onhotencode(df, 'protocol_type')\n",
    "df = onhotencode(df, 'service')\n",
    "df = onhotencode(df, 'flag')"
   ]
  },
  {
   "cell_type": "code",
   "execution_count": 11,
   "id": "regional-position",
   "metadata": {},
   "outputs": [],
   "source": [
    "df = df.drop(\"protocol_type\", axis=1)\n",
    "df = df.drop(\"service\", axis=1)\n",
    "df = df.drop(\"flag\", axis=1)"
   ]
  },
  {
   "cell_type": "code",
   "execution_count": 12,
   "id": "later-minute",
   "metadata": {},
   "outputs": [],
   "source": [
    "df[\"target\"] = df[\"target\"].apply(lambda x: str(x))"
   ]
  },
  {
   "cell_type": "code",
   "execution_count": 13,
   "id": "urban-replica",
   "metadata": {},
   "outputs": [],
   "source": [
    "# df.to_csv(\"data/kdd_processed.csv\")"
   ]
  },
  {
   "cell_type": "code",
   "execution_count": null,
   "id": "incomplete-credits",
   "metadata": {},
   "outputs": [],
   "source": []
  }
 ],
 "metadata": {
  "kernelspec": {
   "display_name": "Python 3",
   "language": "python",
   "name": "python3"
  },
  "language_info": {
   "codemirror_mode": {
    "name": "ipython",
    "version": 3
   },
   "file_extension": ".py",
   "mimetype": "text/x-python",
   "name": "python",
   "nbconvert_exporter": "python",
   "pygments_lexer": "ipython3",
   "version": "3.7.11"
  }
 },
 "nbformat": 4,
 "nbformat_minor": 5
}
